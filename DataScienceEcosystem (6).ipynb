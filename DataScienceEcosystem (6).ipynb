{
  "cells": [
    {
      "cell_type": "markdown",
      "metadata": {
        "id": "P4bR_9BI17Je"
      },
      "source": [
        "# Data Science Tools and Ecosystem"
      ]
    },
    {
      "cell_type": "markdown",
      "metadata": {
        "id": "3ndRnG6n17Je"
      },
      "source": [
        "In this notebook, Data Science Tools and Ecosystem are summarized."
      ]
    },
    {
      "cell_type": "markdown",
      "metadata": {
        "id": "5ejHWXzf17Je"
      },
      "source": [
        "Some of the popular languages that Data Scientists use are:\n",
        "1. Python\n",
        "2. SQL\n",
        "3. R\n"
      ]
    },
    {
      "cell_type": "markdown",
      "metadata": {
        "id": "ZdcDUxXA17Je"
      },
      "source": [
        "Some of the commonly used libraries used by Data Scientists include:\n",
        "1. Pandas\n",
        "2. TensorFlow\n",
        "3. Keras\n",
        "4. PyTorch"
      ]
    },
    {
      "cell_type": "markdown",
      "metadata": {
        "id": "BpR-8DAY17Jf"
      },
      "source": [
        "| Data Science Tools |\n",
        "| ------------------ |\n",
        "| Anacoda            |\n",
        "| R Studio           |\n",
        "| Jupyter Notebooks  |"
      ]
    },
    {
      "cell_type": "markdown",
      "metadata": {
        "tags": [],
        "id": "9f2fVZ-j17Jf"
      },
      "source": [
        "### Below are a few examples of evaluating arithmetic expressions in Python\n"
      ]
    },
    {
      "cell_type": "code",
      "execution_count": 1,
      "metadata": {
        "tags": [],
        "colab": {
          "base_uri": "https://localhost:8080/"
        },
        "id": "nQznEImx17Jf",
        "outputId": "87dc2ae5-355e-4608-c9b4-7688ffe9a92c"
      },
      "outputs": [
        {
          "output_type": "stream",
          "name": "stdout",
          "text": [
            "17\n"
          ]
        }
      ],
      "source": [
        "#This a simple arithmetic expression to mutiply then add integers\n",
        "(3*4)+5"
      ]
    },
    {
      "cell_type": "code",
      "execution_count": 3,
      "metadata": {
        "tags": [],
        "colab": {
          "base_uri": "https://localhost:8080/"
        },
        "id": "1XFbG-Kz17Jg",
        "outputId": "0be93f64-badc-4176-c2cd-b4ea83eb35b8"
      },
      "outputs": [
        {
          "output_type": "execute_result",
          "data": {
            "text/plain": [
              "3.3333333333333335"
            ]
          },
          "metadata": {},
          "execution_count": 3
        }
      ],
      "source": [
        "#This will convert 200 minutes to hours by diving by 60\n",
        "200/60"
      ]
    },
    {
      "cell_type": "markdown",
      "metadata": {
        "id": "qbwxkbbq17Jh"
      },
      "source": [
        "**Objectives:**\n",
        "    "
      ]
    },
    {
      "cell_type": "markdown",
      "metadata": {
        "tags": [],
        "id": "e9siYKF617Jh"
      },
      "source": [
        "- Python\n",
        "- R\n",
        "- SQL\n",
        "- Scala\n",
        "- Java"
      ]
    },
    {
      "cell_type": "markdown",
      "metadata": {
        "id": "AGHbddZr17Jh"
      },
      "source": [
        "## Author"
      ]
    },
    {
      "cell_type": "markdown",
      "metadata": {
        "id": "vnMBaNW_17Jh"
      },
      "source": [
        "Kaviya V H"
      ]
    }
  ],
  "metadata": {
    "kernelspec": {
      "display_name": "Python",
      "language": "python",
      "name": "conda-env-python-py"
    },
    "language_info": {
      "codemirror_mode": {
        "name": "ipython",
        "version": 3
      },
      "file_extension": ".py",
      "mimetype": "text/x-python",
      "name": "python",
      "nbconvert_exporter": "python",
      "pygments_lexer": "ipython3",
      "version": "3.7.12"
    },
    "colab": {
      "provenance": []
    }
  },
  "nbformat": 4,
  "nbformat_minor": 0
}